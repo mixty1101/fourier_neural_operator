import pandas as pd
import os

a = 1
print(a)
