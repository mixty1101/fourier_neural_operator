{
  “cells”:[
    {
      "cell_type": "code",
      "excution_count": 1,
      "metadata": {}
      "output": [],
      "source":[
        "import pandas as pd\n"
        "import os\n"
        "a = 1\n"
        "print(a)\n"
        ]
    }
    ]
}
